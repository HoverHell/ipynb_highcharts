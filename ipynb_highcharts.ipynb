{
 "cells": [
  {
   "cell_type": "code",
   "execution_count": 37,
   "metadata": {
    "collapsed": true
   },
   "outputs": [],
   "source": [
    "from IPython.display import HTML\n",
    "\n",
    "import random\n",
    "import string\n",
    "import json\n",
    "\n",
    "\n",
    "def mk_uid():\n",
    "    return ''.join(\n",
    "        random.choice(string.ascii_uppercase + string.digits)\n",
    "        for _ in range(15))\n",
    "\n",
    "\n",
    "def Highcharts(\n",
    "        chart_def=None, chart_def_json=None, height=400, min_width=400, uid=None,\n",
    "        highstock=True):\n",
    "    assert chart_def or chart_def_json\n",
    "    unique_id = mk_uid() if uid is None else uid\n",
    "    chart_def_json = json.dumps(chart_def) if chart_def_json is None else chart_def_json\n",
    "    if highstock:\n",
    "        hsscript = \"http://code.highcharts.com/stock/highstock.js\"\n",
    "    else:\n",
    "        hsscript = \"http://code.highcharts.com/highcharts.js\"\n",
    "    context = dict(\n",
    "        chart_def_json=chart_def_json, chart_def=chart_def,\n",
    "        min_width=min_width, height=height,\n",
    "        unique_id=unique_id, hsscript=hsscript,\n",
    "        hstag=\"'StockChart', \" if highstock else \"\",\n",
    "    )\n",
    "    html = '''\n",
    "    <script src=\"%(hsscript)s\"></script>\n",
    "    <script src=\"http://code.highcharts.com/modules/exporting.js\"></script>\n",
    "\n",
    "    <div id=\"chart_%(unique_id)s\" style=\"min-width: %(min_width)spx; height: %(height)ipx; margin: 0 auto\">Re-run cell if chart is not shown ...</div>\n",
    "    <script>\n",
    "        do_chart_%(unique_id)s = function() {\n",
    "            $('#chart_%(unique_id)s').highcharts(%(hstag)s%(chart_def_json)s);\n",
    "        }\n",
    "        setTimeout(\"do_chart_%(unique_id)s()\", 50)\n",
    "    </script>\n",
    "    ''' % context \n",
    "    res = HTML(html)\n",
    "    res.context = context\n",
    "    return res\n",
    "\n",
    "\n",
    "def RunJS(js):\n",
    "    context = dict(js=js, unique_id=mk_uid())\n",
    "    html = '''\n",
    "    <script>\n",
    "    %(js)s\n",
    "    </script>\n",
    "    ''' % context\n",
    "    html_v2 = '''\n",
    "    <script>\n",
    "      <script>\n",
    "        tmp_run_%(unique_id)s = function() {\n",
    "            %(js)s\n",
    "        }\n",
    "        setTimeout(\"tmp_run_%(unique_id)s()\", 50)\n",
    "    </script>\n",
    "    ''' % context\n",
    "    # TODO: test which one works better\n",
    "    return HTML(html)"
   ]
  },
  {
   "cell_type": "code",
   "execution_count": 8,
   "metadata": {
    "collapsed": false
   },
   "outputs": [
    {
     "data": {
      "text/html": [
       "<div style=\"max-height:1000px;max-width:1500px;overflow:auto;\">\n",
       "<table border=\"1\" class=\"dataframe\">\n",
       "  <thead>\n",
       "    <tr style=\"text-align: right;\">\n",
       "      <th></th>\n",
       "      <th>a</th>\n",
       "      <th>b</th>\n",
       "      <th>c</th>\n",
       "      <th>d</th>\n",
       "    </tr>\n",
       "  </thead>\n",
       "  <tbody>\n",
       "    <tr>\n",
       "      <th>1</th>\n",
       "      <td> 1.1</td>\n",
       "      <td> 2.1</td>\n",
       "      <td> 3.1</td>\n",
       "      <td> 1.9</td>\n",
       "    </tr>\n",
       "    <tr>\n",
       "      <th>2</th>\n",
       "      <td> 3.2</td>\n",
       "      <td> 2.2</td>\n",
       "      <td> 1.2</td>\n",
       "      <td> NaN</td>\n",
       "    </tr>\n",
       "    <tr>\n",
       "      <th>3</th>\n",
       "      <td> 1.3</td>\n",
       "      <td> 3.3</td>\n",
       "      <td> 2.3</td>\n",
       "      <td> NaN</td>\n",
       "    </tr>\n",
       "    <tr>\n",
       "      <th>4</th>\n",
       "      <td> 2.4</td>\n",
       "      <td> 3.4</td>\n",
       "      <td> 1.4</td>\n",
       "      <td> 2.9</td>\n",
       "    </tr>\n",
       "  </tbody>\n",
       "</table>\n",
       "</div>"
      ],
      "text/plain": [
       "     a    b    c    d\n",
       "1  1.1  2.1  3.1  1.9\n",
       "2  3.2  2.2  1.2  NaN\n",
       "3  1.3  3.3  2.3  NaN\n",
       "4  2.4  3.4  1.4  2.9"
      ]
     },
     "execution_count": 8,
     "metadata": {},
     "output_type": "execute_result"
    }
   ],
   "source": [
    "import pandas as pa\n",
    "df = pa.DataFrame(\n",
    "    [[1.1, 2.1, 3.1], [3.2, 2.2, 1.2], [1.3, 3.3, 2.3], [2.4, 3.4, 1.4]],\n",
    "    columns=('a', 'b', 'c'), index=[1, 2, 3, 4])\n",
    "df['d'] = pa.Series([1.9, 2.9], index=[1, 4])\n",
    "df"
   ]
  },
  {
   "cell_type": "code",
   "execution_count": 13,
   "metadata": {
    "collapsed": false
   },
   "outputs": [
    {
     "data": {
      "text/html": [
       "<div style=\"max-height:1000px;max-width:1500px;overflow:auto;\">\n",
       "<table border=\"1\" class=\"dataframe\">\n",
       "  <thead>\n",
       "    <tr style=\"text-align: right;\">\n",
       "      <th></th>\n",
       "      <th>o</th>\n",
       "      <th>h</th>\n",
       "      <th>l</th>\n",
       "      <th>c</th>\n",
       "      <th>v</th>\n",
       "      <th>oi</th>\n",
       "    </tr>\n",
       "    <tr>\n",
       "      <th>ts</th>\n",
       "      <th></th>\n",
       "      <th></th>\n",
       "      <th></th>\n",
       "      <th></th>\n",
       "      <th></th>\n",
       "      <th></th>\n",
       "    </tr>\n",
       "  </thead>\n",
       "  <tbody>\n",
       "    <tr>\n",
       "      <th>2015-04-10 19:45:00</th>\n",
       "      <td> 127.13</td>\n",
       "      <td> 127.14</td>\n",
       "      <td> 127.13</td>\n",
       "      <td> 127.14</td>\n",
       "      <td> 2484</td>\n",
       "      <td> 40178203</td>\n",
       "    </tr>\n",
       "    <tr>\n",
       "      <th>2015-04-10 19:46:00</th>\n",
       "      <td> 127.07</td>\n",
       "      <td> 127.07</td>\n",
       "      <td> 127.07</td>\n",
       "      <td> 127.07</td>\n",
       "      <td>  100</td>\n",
       "      <td> 40178303</td>\n",
       "    </tr>\n",
       "  </tbody>\n",
       "</table>\n",
       "</div>"
      ],
      "text/plain": [
       "                          o       h       l       c     v        oi\n",
       "ts                                                                 \n",
       "2015-04-10 19:45:00  127.13  127.14  127.13  127.14  2484  40178203\n",
       "2015-04-10 19:46:00  127.07  127.07  127.07  127.07   100  40178303"
      ]
     },
     "execution_count": 13,
     "metadata": {},
     "output_type": "execute_result"
    }
   ],
   "source": [
    "ohlcv_csv = '''\n",
    "2015-04-10 19:45:00,127.1300,127.1400,127.1300,127.1400,2484,40178203\n",
    "2015-04-10 19:46:00,127.0700,127.0700,127.0700,127.0700,100,40178303\n",
    "2015-04-10 19:47:00,127.1200,127.1200,127.0500,127.0500,2219,40180622\n",
    "2015-04-10 19:48:00,127.0400,127.0500,127.0400,127.0500,1416,40182138\n",
    "2015-04-10 19:49:00,127.0510,127.0510,127.0510,127.0510,200,40182340\n",
    "2015-04-10 19:52:00,127.0900,127.0900,127.0600,127.0600,775,40183215\n",
    "2015-04-10 19:55:00,127.0600,127.1000,127.0500,127.0500,1395,40184650\n",
    "2015-04-10 19:58:00,127.1000,127.1000,127.1000,127.1000,431,40185084\n",
    "2015-04-10 19:59:00,127.1000,127.1200,127.1000,127.1200,2169,40187458\n",
    "2015-04-10 20:00:00,127.1200,127.1200,127.0900,127.0900,300,40187953\n",
    "'''.strip()\n",
    "from cStringIO import StringIO\n",
    "dfohlc = pa.read_csv(\n",
    "    StringIO(ohlcv_csv), parse_dates=[0],\n",
    "    names='ts o h l c v oi'.split()).set_index('ts')\n",
    "dfohlc.head(2)"
   ]
  },
  {
   "cell_type": "code",
   "execution_count": 10,
   "metadata": {
    "collapsed": false
   },
   "outputs": [],
   "source": [
    "import copy\n",
    "\n",
    "\n",
    "def mk_chart_def(\n",
    "        df=None, kwa=None, series=None, chart_type='line',\n",
    "        marginRight=130, marginBottom=25, title='', subtitle='',\n",
    "        xlabel='', ylabel=''):\n",
    "    \"\"\"                                                                                                                                                                       \n",
    "    Sample serie: `dict(name='serie_name', data=[1.1, 2.2, 3.3])`.                                                                                                            \n",
    "    \"\"\"\n",
    "    series = [] if series is None else copy.copy(series)\n",
    "    res = dict(\n",
    "        chart=dict(\n",
    "            type=chart_type, marginRight=marginRight,\n",
    "            marginBottom=marginBottom),\n",
    "        title=dict(\n",
    "            text=title,\n",
    "            # center, supposedly                                                                                                                                              \n",
    "            x=-20),\n",
    "        subtitle=dict(\n",
    "            text=subtitle,\n",
    "            x=-20),\n",
    "        xAxis=dict(title=dict(text=xlabel)),\n",
    "        yAxis=dict(\n",
    "            title=dict(text=ylabel),\n",
    "            # plotLines=[dict(value=0, width=1, color='#808080')],                                                                                                            \n",
    "        ),\n",
    "        tooltip=dict(\n",
    "            # valueSuffix=u'°C',                                                                                                                                              \n",
    "        ),  \n",
    "        legend=dict(\n",
    "            layout='vertical',\n",
    "            align='right', verticalAlign='top',\n",
    "            x=-10, y=100, borderWidth=0,\n",
    "        ),  \n",
    "        series=series,\n",
    "    )\n",
    "    \n",
    "    if df is not None:\n",
    "        series.extend(\n",
    "            dict(name=column, data=list(df[column]))\n",
    "            for column in df.columns)\n",
    "                              \n",
    "    if kwa:                   \n",
    "        from pyaux.base import dict_merge\n",
    "        res = dict_merge(res, kwa, _copy=False)\n",
    "\n",
    "    return res\n"
   ]
  },
  {
   "cell_type": "code",
   "execution_count": 11,
   "metadata": {
    "collapsed": false
   },
   "outputs": [
    {
     "data": {
      "text/html": [
       "\n",
       "    <script src=\"http://code.highcharts.com/stock/highstock.js\"></script>\n",
       "    <script src=\"http://code.highcharts.com/modules/exporting.js\"></script>\n",
       "\n",
       "    <div id=\"chart_0W8XYQKGDADF4R4\" style=\"min-width: 400px; height: 400px; margin: 0 auto\">Re-run cell if chart is not shown ...</div>\n",
       "    <script>\n",
       "        do_chart_0W8XYQKGDADF4R4 = function() {\n",
       "            $('#chart_0W8XYQKGDADF4R4').highcharts({\"subtitle\": {\"x\": -20, \"text\": \"\"}, \"yAxis\": {\"title\": {\"text\": \"\"}}, \"series\": [{\"data\": [1.1000000000000001, 3.2000000000000002, 1.3, 2.3999999999999999], \"name\": \"a\"}, {\"data\": [2.1000000000000001, 2.2000000000000002, 3.2999999999999998, 3.3999999999999999], \"name\": \"b\"}, {\"data\": [3.1000000000000001, 1.2, 2.2999999999999998, 1.3999999999999999], \"name\": \"c\"}, {\"data\": [1.8999999999999999, NaN, NaN, 2.8999999999999999], \"name\": \"d\"}], \"title\": {\"x\": -20, \"text\": \"\"}, \"chart\": {\"marginBottom\": 25, \"type\": \"line\", \"marginRight\": 130}, \"tooltip\": {}, \"xAxis\": {\"title\": {\"text\": \"\"}}, \"legend\": {\"verticalAlign\": \"top\", \"borderWidth\": 0, \"y\": 100, \"x\": -10, \"align\": \"right\", \"layout\": \"vertical\"}});\n",
       "        }\n",
       "        setTimeout(\"do_chart_0W8XYQKGDADF4R4()\", 50)\n",
       "    </script>\n",
       "    "
      ],
      "text/plain": [
       "<IPython.core.display.HTML object>"
      ]
     },
     "execution_count": 11,
     "metadata": {},
     "output_type": "execute_result"
    }
   ],
   "source": [
    "Highcharts(mk_chart_def(df=df))"
   ]
  },
  {
   "cell_type": "code",
   "execution_count": 26,
   "metadata": {
    "collapsed": false
   },
   "outputs": [
    {
     "data": {
      "text/plain": [
       "('2015-04-10T19:45:00', 1428684300000)"
      ]
     },
     "execution_count": 26,
     "metadata": {},
     "output_type": "execute_result"
    }
   ],
   "source": [
    "idx, row = next(dfohlc.iterrows())\n",
    "idx.isoformat(), int(time.mktime(idx.to_datetime().timetuple()) * 1e3)"
   ]
  },
  {
   "cell_type": "code",
   "execution_count": 69,
   "metadata": {
    "collapsed": false
   },
   "outputs": [],
   "source": [
    "def interleave(val, lst):\n",
    "    \"\"\" Add `val` between each element pair in `lst`.\n",
    "    \n",
    "    >>> list(interleave(1, [2, 3, 4]))\n",
    "    [2, 1, 3, 1, 4]\n",
    "    \"\"\"\n",
    "    lst = iter(lst)\n",
    "    yield next(lst)\n",
    "    for lstval in lst:\n",
    "        yield val\n",
    "        yield lstval\n"
   ]
  },
  {
   "cell_type": "code",
   "execution_count": 80,
   "metadata": {
    "collapsed": false
   },
   "outputs": [
    {
     "data": {
      "text/html": [
       "\n",
       "    <script src=\"http://code.highcharts.com/stock/highstock.js\"></script>\n",
       "    <script src=\"http://code.highcharts.com/modules/exporting.js\"></script>\n",
       "\n",
       "    <div id=\"chart_TENJXIBPI5000TY\" style=\"min-width: 400px; height: 400px; margin: 0 auto\">Re-run cell if chart is not shown ...</div>\n",
       "    <script>\n",
       "        do_chart_TENJXIBPI5000TY = function() {\n",
       "            $('#chart_TENJXIBPI5000TY').highcharts('StockChart', {\"subtitle\": {\"x\": -20, \"text\": \"\"}, \"yAxis\": [{\"height\": \"60%\", \"labels\": {\"x\": -3, \"align\": \"right\"}, \"lineWidth\": 2, \"title\": {\"text\": \"OHLC\"}}, {\"lineWidth\": 2, \"title\": {\"text\": \"Volume\"}, \"top\": \"65%\", \"labels\": {\"x\": -3, \"align\": \"right\"}, \"offset\": 0, \"height\": \"35%\"}], \"series\": [{\"data\": [[1428684300000, 127.13, 127.14, 127.13, 127.14], [1428684360000, 127.06999999999999, 127.06999999999999, 127.06999999999999, 127.06999999999999], [1428684420000, 127.12, 127.12, 127.05, 127.05], [1428684480000, 127.04000000000001, 127.05, 127.04000000000001, 127.05], [1428684540000, 127.051, 127.051, 127.051, 127.051], [1428684720000, 127.09, 127.09, 127.06, 127.06], [1428684900000, 127.06, 127.09999999999999, 127.05, 127.05], [1428685080000, 127.09999999999999, 127.09999999999999, 127.09999999999999, 127.09999999999999], [1428685140000, 127.09999999999999, 127.12, 127.09999999999999, 127.12], [1428685200000, 127.12, 127.12, 127.09, 127.09]], \"dataGrouping\": {\"units\": [[\"week\", [1]], [\"month\", [1, 2, 3, 4, 6]]]}, \"type\": \"candlestick\", \"name\": \"AAPL 1min\"}, {\"data\": [[1428684300000, 2484], [1428684360000, 100], [1428684420000, 2219], [1428684480000, 1416], [1428684540000, 200], [1428684720000, 775], [1428684900000, 1395], [1428685080000, 431], [1428685140000, 2169], [1428685200000, 300]], \"dataGrouping\": {\"units\": [[\"week\", [1]], [\"month\", [1, 2, 3, 4, 6]]]}, \"type\": \"column\", \"name\": \"Volume\", \"yAxis\": 1}, {\"color\": \"green\", \"data\": [[1428684720000, 127.06], [1428685200000, 127.09]], \"type\": \"line\", \"name\": \"POI\"}, {\"color\": \"red\", \"data\": [[1428684360000, 127.06999999999999], [1428684420000, 127.05], [null, null], [1428684540000, 127.051], [1428684900000, 127.05]], \"type\": \"line\", \"name\": \"POI\"}], \"title\": {\"x\": -20, \"text\": \"\"}, \"chart\": {\"marginBottom\": 25, \"type\": \"line\", \"marginRight\": 130}, \"tooltip\": {}, \"xAxis\": {\"title\": {\"text\": \"\"}}, \"legend\": {\"verticalAlign\": \"top\", \"borderWidth\": 0, \"y\": 100, \"x\": -10, \"align\": \"right\", \"layout\": \"vertical\"}});\n",
       "        }\n",
       "        setTimeout(\"do_chart_TENJXIBPI5000TY()\", 50)\n",
       "    </script>\n",
       "    "
      ],
      "text/plain": [
       "<IPython.core.display.HTML object>"
      ]
     },
     "execution_count": 80,
     "metadata": {},
     "output_type": "execute_result"
    }
   ],
   "source": [
    "# Highcharts()\n",
    "import time\n",
    "from pyaux.base import group\n",
    "\n",
    "\n",
    "def dt_to_hc(dt):\n",
    "    \"\"\" datetime -> highcharts value \"\"\"\n",
    "    return int(time.mktime(dt.timetuple()) * 1e3)\n",
    "    \n",
    "\n",
    "def ohlc_to_data(df, cols='o h l c'.split(), **kwa):\n",
    "    res = [\n",
    "        ([dt_to_hc(idx.to_datetime())] +\n",
    "         [row[col] for col in cols])\n",
    "        for idx, row in df.iterrows()]\n",
    "    return res\n",
    "\n",
    "\n",
    "def ohlc_to_serie(df, name=None, extra=None, grouping_units=None, **kwa):\n",
    "    if grouping_units is None:\n",
    "        grouping_units=[\n",
    "            # unit name, [allowed multiples],                                                                                                                                 \n",
    "            ['week', [1]],\n",
    "            ['month', [1, 2, 3, 4, 6]],\n",
    "        ]\n",
    "    res_candle = dict(\n",
    "        type='candlestick',\n",
    "        name=name,\n",
    "        # sample data: [[1367366400000,444.46,444.93,434.39,439.29], …]\n",
    "        data=ohlc_to_data(df, **kwa),                                                                                              \n",
    "        dataGrouping=dict(units=grouping_units))\n",
    "    if extra:                   \n",
    "        from pyaux.base import dict_merge\n",
    "        res_candle = dict_merge(res_candle, extra, _copy=False)\n",
    "    return res_candle\n",
    "\n",
    "\n",
    "\n",
    "    return res\n",
    "\n",
    "\n",
    "def ohlcv_to_cdef(df, name, volume='v', pois=None, poi_to_color='default', **kwa):\n",
    "    \"\"\" ...\n",
    "    \n",
    "    `pois`: [\n",
    "        # poi\n",
    "        [\n",
    "            # point\n",
    "            [idx, value],\n",
    "            # point\n",
    "            [... second point ...]],\n",
    "        ... more poi ...]\n",
    "    \"\"\"\n",
    "    candle_serie = ohlc_to_serie(df, name, **kwa)\n",
    "    series = [candle_serie]\n",
    "    extras = {}\n",
    "    if volume and volume in df:\n",
    "        volume_series = df[volume]\n",
    "        volume_data = [[dt_to_hc(idx.to_datetime()), val]\n",
    "                       for idx, val in volume_series.iteritems()]\n",
    "        series.append(dict(\n",
    "            type='column', name='Volume', data=volume_data,\n",
    "            yAxis=1,  # Need an axis for that\n",
    "            dataGrouping=candle_serie['dataGrouping']))\n",
    "        extras.update(yAxis=[\n",
    "            dict(labels=dict(align='right', x=-3),\n",
    "                 title=dict(text='OHLC'),\n",
    "                 height='60%', lineWidth=2),\n",
    "            dict(labels=dict(align='right', x=-3),\n",
    "                 title=dict(text='Volume'),\n",
    "                 top='65%', height='35%',\n",
    "                 offset=0, lineWidth=2),\n",
    "            ])\n",
    "    if pois:\n",
    "        breakpoint = [None, None]\n",
    "\n",
    "        def poi_to_color_default(poi):\n",
    "            # red if downwards else green\n",
    "            return 'red' if poi[1][1] < poi[0][1] else 'green'\n",
    "\n",
    "        if poi_to_color == 'default':\n",
    "            poi_to_color = poi_to_color_default\n",
    "        poi_grouped = group((poi_to_color(poi), poi) for poi in pois)\n",
    "        for color, poi_group in poi_grouped.items():\n",
    "            poi_data = [\n",
    "                (dt_to_hc(point_ts) if point_ts else None,\n",
    "                 point_val)\n",
    "                for poi in interleave([breakpoint], poi_group)\n",
    "                for point_ts, point_val in poi]\n",
    "            series.append(dict(\n",
    "                type='line', name='POI', data=poi_data,\n",
    "                color=color,\n",
    "                # dataGrouping=candle_serie['dataGrouping']\n",
    "            ))\n",
    "\n",
    "    return mk_chart_def(series=series, kwa=extras)\n",
    "\n",
    "\n",
    "pois = [[1, 2], [4, 6], [5, 9]]\n",
    "pois = [[(dfohlc.index[i], dfohlc['c'][i]) for i in poi] for poi in pois]\n",
    "\n",
    "\n",
    "cdef = ohlcv_to_cdef(dfohlc, 'AAPL 1min', pois=pois)\n",
    "ch = Highcharts(cdef)\n",
    "ch"
   ]
  },
  {
   "cell_type": "code",
   "execution_count": null,
   "metadata": {
    "collapsed": false
   },
   "outputs": [],
   "source": []
  },
  {
   "cell_type": "code",
   "execution_count": 62,
   "metadata": {
    "collapsed": false
   },
   "outputs": [
    {
     "data": {
      "text/plain": [
       "{'data': [[1428684300000, 2484],\n",
       "  [1428684360000, 100],\n",
       "  [1428684420000, 2219],\n",
       "  [1428684480000, 1416],\n",
       "  [1428684540000, 200],\n",
       "  [1428684720000, 775],\n",
       "  [1428684900000, 1395],\n",
       "  [1428685080000, 431],\n",
       "  [1428685140000, 2169],\n",
       "  [1428685200000, 300]],\n",
       " 'dataGrouping': {'units': [['week', [1]], ['month', [1, 2, 3, 4, 6]]]},\n",
       " 'name': 'Volume',\n",
       " 'type': 'column',\n",
       " 'yAxis': 1}"
      ]
     },
     "execution_count": 62,
     "metadata": {},
     "output_type": "execute_result"
    }
   ],
   "source": [
    "# ch.context['chart_def']['series'][0]['data'][:4]\n",
    "ch.context['chart_def']['series'][1]"
   ]
  }
 ],
 "metadata": {
  "kernelspec": {
   "display_name": "Python 2",
   "language": "python",
   "name": "python2"
  },
  "language_info": {
   "codemirror_mode": {
    "name": "ipython",
    "version": 2
   },
   "file_extension": ".py",
   "mimetype": "text/x-python",
   "name": "python",
   "nbconvert_exporter": "python",
   "pygments_lexer": "ipython2",
   "version": "2.7.3"
  }
 },
 "nbformat": 4,
 "nbformat_minor": 0
}
